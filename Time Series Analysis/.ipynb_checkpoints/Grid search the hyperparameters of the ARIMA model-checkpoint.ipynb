{
 "cells": [
  {
   "cell_type": "code",
   "execution_count": null,
   "metadata": {},
   "outputs": [],
   "source": [
    "# Configuring an ARIMA Model\n",
    "# The classical approach for fitting an ARIMA model is to follow the Box-Jenkins Methodology.\n",
    "# This is a process that uses time series analysis and diagnostics to discover good parameters \n",
    "# for the ARIMA model.\n",
    "\n",
    "# In summary, the steps of this process are as follows:\n",
    "\n",
    "# Model Identification. Use plots and summary statistics to identify trends, seasonality, \n",
    "# and autoregression elements to get an idea of the amount of differencing and the size of the lag \n",
    "# that will be required.\n",
    "\n",
    "# Parameter Estimation. Use a fitting procedure to find the coefficients of the regression model.\n",
    "\n",
    "# Model Checking. Use plots and statistical tests of the residual errors to determine the amount \n",
    "# and type of temporal structure not captured by the model.\n",
    "# The process is repeated until either a desirable level of fit is achieved on the in-sample \n",
    "# or out-of-sample observations (e.g. training or test datasets)."
   ]
  }
 ],
 "metadata": {
  "kernelspec": {
   "display_name": "Python 3",
   "language": "python",
   "name": "python3"
  },
  "language_info": {
   "codemirror_mode": {
    "name": "ipython",
    "version": 3
   },
   "file_extension": ".py",
   "mimetype": "text/x-python",
   "name": "python",
   "nbconvert_exporter": "python",
   "pygments_lexer": "ipython3",
   "version": "3.6.5"
  }
 },
 "nbformat": 4,
 "nbformat_minor": 2
}
